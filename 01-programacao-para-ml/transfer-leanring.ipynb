{
  "cells": [
    {
      "cell_type": "markdown",
      "metadata": {
        "id": "view-in-github",
        "colab_type": "text"
      },
      "source": [
        "<a href=\"https://colab.research.google.com/github/FelipeAugus/dio-baires-dev--machine-learning-training-ipynb/blob/main/01-programacao-para-ml/transfer-leanring.ipynb\" target=\"_parent\"><img src=\"https://colab.research.google.com/assets/colab-badge.svg\" alt=\"Open In Colab\"/></a>"
      ]
    },
    {
      "cell_type": "code",
      "execution_count": 1,
      "id": "e7861951",
      "metadata": {
        "vscode": {
          "languageId": "plaintext"
        },
        "id": "e7861951"
      },
      "outputs": [],
      "source": [
        "import os\n",
        "import zipfile\n",
        "import random\n",
        "import keras\n",
        "import pandas as pd\n",
        "import numpy as np\n",
        "import matplotlib.pyplot as plt\n",
        "from keras.applications import MobileNet\n",
        "from keras.applications.mobilenet import preprocess_input\n",
        "from keras.layers import Dense, Dropout, GlobalAveragePooling2D\n",
        "from keras.models import Model\n",
        "from keras.optimizers import Adam\n",
        "from keras.preprocessing import image\n",
        "from tensorflow.keras.preprocessing.image import ImageDataGenerator\n",
        "from shutil import copyfile"
      ]
    },
    {
      "cell_type": "markdown",
      "source": [
        "# Preparo das Imagens"
      ],
      "metadata": {
        "id": "WHniHmWi8l2f"
      },
      "id": "WHniHmWi8l2f"
    },
    {
      "cell_type": "code",
      "source": [
        "!wget --no-check-certificate https://download.microsoft.com/download/3/e/1/3e1c3f21-ecdb-4869-8368-6deba77b919f/kagglecatsanddogs_5340.zip -O cats-and-dogs.zip\n",
        "with zipfile.ZipFile('cats-and-dogs.zip', 'r') as zip: zip.extractall('')\n",
        "!rm -rf cats-and-dogs.zip"
      ],
      "metadata": {
        "colab": {
          "base_uri": "https://localhost:8080/"
        },
        "id": "Q_BfuA0b23Qp",
        "outputId": "771a14b6-a164-4eda-ae49-061c6f82cb5d"
      },
      "id": "Q_BfuA0b23Qp",
      "execution_count": 2,
      "outputs": [
        {
          "output_type": "stream",
          "name": "stdout",
          "text": [
            "--2025-07-17 02:01:44--  https://download.microsoft.com/download/3/e/1/3e1c3f21-ecdb-4869-8368-6deba77b919f/kagglecatsanddogs_5340.zip\n",
            "Resolving download.microsoft.com (download.microsoft.com)... 23.36.48.252, 2600:1417:3f:580::317f, 2600:1417:3f:5b3::317f\n",
            "Connecting to download.microsoft.com (download.microsoft.com)|23.36.48.252|:443... connected.\n",
            "HTTP request sent, awaiting response... 200 OK\n",
            "Length: 824887076 (787M) [application/octet-stream]\n",
            "Saving to: ‘cats-and-dogs.zip’\n",
            "\n",
            "cats-and-dogs.zip   100%[===================>] 786.67M   121MB/s    in 8.7s    \n",
            "\n",
            "2025-07-17 02:01:53 (90.1 MB/s) - ‘cats-and-dogs.zip’ saved [824887076/824887076]\n",
            "\n"
          ]
        }
      ]
    },
    {
      "cell_type": "code",
      "source": [
        "try:\n",
        "    import shutil\n",
        "    shutil.rmtree('cats-and-dogs')\n",
        "\n",
        "    os.mkdir('cats-and-dogs')\n",
        "    os.mkdir('cats-and-dogs/training')\n",
        "    os.mkdir('cats-and-dogs/testing')\n",
        "    os.mkdir('cats-and-dogs/training/cats')\n",
        "    os.mkdir('cats-and-dogs/training/dogs')\n",
        "    os.mkdir('cats-and-dogs/testing/cats')\n",
        "    os.mkdir('cats-and-dogs/testing/dogs')\n",
        "except OSError:\n",
        "    pass\n",
        "\n",
        "def split_data(SOURCE, TRAINING, TESTING, SPLIT_SIZE, MAX_SIZE):\n",
        "    files = []\n",
        "    current_size = 0\n",
        "    for filename in os.listdir(SOURCE):\n",
        "        file = SOURCE + filename\n",
        "        if os.path.getsize(file) > 0 and current_size<=MAX_SIZE:\n",
        "            files.append(filename)\n",
        "            current_size+=1\n",
        "    print(f'Arquivos separados: {len(files)}')\n",
        "\n",
        "    training_length = int(len(files) * SPLIT_SIZE)\n",
        "    testing_length = int(len(files) - training_length)\n",
        "    shuffled_set = random.sample(files, len(files))\n",
        "    training_set = shuffled_set[0:training_length]\n",
        "    testing_set = shuffled_set[-testing_length:]\n",
        "\n",
        "    for filename in training_set:\n",
        "        this_file = SOURCE + filename\n",
        "        destination = TRAINING + filename\n",
        "        copyfile(this_file, destination)\n",
        "\n",
        "    for filename in testing_set:\n",
        "        this_file = SOURCE + filename\n",
        "        destination = TESTING + filename\n",
        "        copyfile(this_file, destination)\n",
        "\n",
        "CAT_SOURCE_DIR = \"PetImages/Cat/\"\n",
        "TRAINING_CATS_DIR = \"cats-and-dogs/training/cats/\"\n",
        "TESTING_CATS_DIR = \"cats-and-dogs/testing/cats/\"\n",
        "DOG_SOURCE_DIR = \"PetImages/Dog/\"\n",
        "TRAINING_DOGS_DIR = \"cats-and-dogs/training/dogs/\"\n",
        "TESTING_DOGS_DIR = \"cats-and-dogs/testing/dogs/\"\n",
        "\n",
        "split_size = .9\n",
        "max_size = 120\n",
        "split_data(CAT_SOURCE_DIR, TRAINING_CATS_DIR, TESTING_CATS_DIR, split_size, max_size)\n",
        "split_data(DOG_SOURCE_DIR, TRAINING_DOGS_DIR, TESTING_DOGS_DIR, split_size, max_size)\n",
        "\n",
        "print(len(os.listdir('cats-and-dogs/training/cats/')))\n",
        "print(len(os.listdir('cats-and-dogs/training/dogs/')))\n",
        "print(len(os.listdir('cats-and-dogs/testing/cats/')))\n",
        "print(len(os.listdir('cats-and-dogs/testing/dogs/')))"
      ],
      "metadata": {
        "colab": {
          "base_uri": "https://localhost:8080/"
        },
        "id": "wbBlRoQP8kgH",
        "outputId": "e60f3621-5954-4837-cffa-83521661eb5d"
      },
      "id": "wbBlRoQP8kgH",
      "execution_count": 3,
      "outputs": [
        {
          "output_type": "stream",
          "name": "stdout",
          "text": [
            "Arquivos separados: 121\n",
            "Arquivos separados: 121\n",
            "108\n",
            "108\n",
            "13\n",
            "13\n"
          ]
        }
      ]
    },
    {
      "cell_type": "code",
      "source": [
        "batch_size = 32\n",
        "\n",
        "train_datagen = ImageDataGenerator(rescale = 1./255,\n",
        "                                   shear_range = 0.4,\n",
        "                                   zoom_range = 0.4,\n",
        "                                   height_shift_range=0.3,\n",
        "                                   width_shift_range=0.3,\n",
        "                                   rotation_range=50,\n",
        "                                   horizontal_flip = True)\n",
        "\n",
        "test_datagen = ImageDataGenerator(rescale = 1./255)\n",
        "\n",
        "training_set = train_datagen.flow_from_directory('cats-and-dogs/training',\n",
        "                                                 target_size = (224, 224),\n",
        "                                                 batch_size = batch_size,\n",
        "                                                 class_mode = 'binary')\n",
        "\n",
        "test_set = test_datagen.flow_from_directory('cats-and-dogs/testing',\n",
        "                                            target_size = (224, 224),\n",
        "                                            batch_size = batch_size,\n",
        "                                            class_mode = 'binary')"
      ],
      "metadata": {
        "colab": {
          "base_uri": "https://localhost:8080/"
        },
        "id": "FCjsRUa97waS",
        "outputId": "889103e9-8e27-45f8-924d-083f99d59519"
      },
      "id": "FCjsRUa97waS",
      "execution_count": 4,
      "outputs": [
        {
          "output_type": "stream",
          "name": "stdout",
          "text": [
            "Found 216 images belonging to 2 classes.\n",
            "Found 26 images belonging to 2 classes.\n"
          ]
        }
      ]
    },
    {
      "cell_type": "markdown",
      "source": [
        "# Instanciando a rede"
      ],
      "metadata": {
        "id": "Tx4JasHH7rz6"
      },
      "id": "Tx4JasHH7rz6"
    },
    {
      "cell_type": "code",
      "source": [
        "model=MobileNet(weights='imagenet', include_top=False)\n",
        "# Criando a saída do modelo MobileNet:\n",
        "x=model.output\n",
        "x=GlobalAveragePooling2D()(x)\n",
        "\n",
        "# Adicionando uma camada intermediária e a camada final:\n",
        "x=Dense(50,activation='relu')(x)\n",
        "preds=Dense(1,activation='sigmoid')(x)\n",
        "model=Model(inputs=model.input, outputs=preds)\n",
        "\n",
        "# Visualizando as camadas da nova rede criada usando o modelo MobileNetV2:\n",
        "# for i,layer in enumerate(model.layers): print(i,layer.name)\n",
        "\n",
        "# Definindo qual camada da rede será treinada. Nesse caso somente as duas últimas camadas adicionadas:\n",
        "for layer in model.layers[:86]: layer.trainable=False\n",
        "for layer in model.layers[86:]: layer.trainable=True"
      ],
      "metadata": {
        "id": "YVMJHeaC6kgs",
        "colab": {
          "base_uri": "https://localhost:8080/"
        },
        "outputId": "c4db785d-b4eb-4b0b-f5f4-fe4d1c38eaf8"
      },
      "id": "YVMJHeaC6kgs",
      "execution_count": 5,
      "outputs": [
        {
          "output_type": "stream",
          "name": "stderr",
          "text": [
            "/tmp/ipython-input-5-1928709807.py:1: UserWarning: `input_shape` is undefined or non-square, or `rows` is not in [128, 160, 192, 224]. Weights for input shape (224, 224) will be loaded as the default.\n",
            "  model=MobileNet(weights='imagenet', include_top=False)\n"
          ]
        }
      ]
    },
    {
      "cell_type": "markdown",
      "source": [
        "# Treinamento"
      ],
      "metadata": {
        "id": "n3jeq8lk7-_T"
      },
      "id": "n3jeq8lk7-_T"
    },
    {
      "cell_type": "code",
      "source": [
        "model.compile(optimizer=Adam(learning_rate=0.0001),loss='binary_crossentropy',metrics=['accuracy'])\n",
        "\n",
        "history = model.fit(training_set,\n",
        "                   steps_per_epoch=int(8000/batch_size),\n",
        "                   epochs=10,\n",
        "                   validation_data = test_set,\n",
        "                   validation_steps = int(2000/batch_size))"
      ],
      "metadata": {
        "id": "teGPb2ql8AV7",
        "colab": {
          "base_uri": "https://localhost:8080/"
        },
        "outputId": "1e4d8772-cce5-4b7a-ba4a-d8d948512188"
      },
      "id": "teGPb2ql8AV7",
      "execution_count": 6,
      "outputs": [
        {
          "output_type": "stream",
          "name": "stderr",
          "text": [
            "/usr/local/lib/python3.11/dist-packages/keras/src/trainers/data_adapters/py_dataset_adapter.py:121: UserWarning: Your `PyDataset` class should call `super().__init__(**kwargs)` in its constructor. `**kwargs` can include `workers`, `use_multiprocessing`, `max_queue_size`. Do not pass these arguments to `fit()`, as they will be ignored.\n",
            "  self._warn_if_super_not_called()\n"
          ]
        },
        {
          "output_type": "stream",
          "name": "stdout",
          "text": [
            "Epoch 1/10\n",
            "\u001b[1m  7/250\u001b[0m \u001b[37m━━━━━━━━━━━━━━━━━━━━\u001b[0m \u001b[1m3:28\u001b[0m 857ms/step - accuracy: 0.5468 - loss: 0.8884"
          ]
        },
        {
          "output_type": "stream",
          "name": "stderr",
          "text": [
            "/usr/local/lib/python3.11/dist-packages/keras/src/trainers/epoch_iterator.py:107: UserWarning: Your input ran out of data; interrupting training. Make sure that your dataset or generator can generate at least `steps_per_epoch * epochs` batches. You may need to use the `.repeat()` function when building your dataset.\n",
            "  self._interrupted_warning()\n"
          ]
        },
        {
          "output_type": "stream",
          "name": "stdout",
          "text": [
            "\b\b\b\b\b\b\b\b\b\b\b\b\b\b\b\b\b\b\b\b\b\b\b\b\b\b\b\b\b\b\b\b\b\b\b\b\b\b\b\b\b\b\b\b\b\b\b\b\b\b\b\b\b\b\b\b\b\b\b\b\b\b\b\b\b\b\b\b\b\b\b\b\b\b\b\b\b\b\r\u001b[1m250/250\u001b[0m \u001b[32m━━━━━━━━━━━━━━━━━━━━\u001b[0m\u001b[37m\u001b[0m \u001b[1m17s\u001b[0m 37ms/step - accuracy: 0.5643 - loss: 0.8107 - val_accuracy: 0.7308 - val_loss: 0.6216\n",
            "Epoch 2/10\n",
            "\u001b[1m250/250\u001b[0m \u001b[32m━━━━━━━━━━━━━━━━━━━━\u001b[0m\u001b[37m\u001b[0m \u001b[1m3s\u001b[0m 10ms/step - accuracy: 0.6027 - loss: 0.6958 - val_accuracy: 0.7308 - val_loss: 0.5364\n",
            "Epoch 3/10\n",
            "\u001b[1m250/250\u001b[0m \u001b[32m━━━━━━━━━━━━━━━━━━━━\u001b[0m\u001b[37m\u001b[0m \u001b[1m3s\u001b[0m 11ms/step - accuracy: 0.6522 - loss: 0.5965 - val_accuracy: 0.8077 - val_loss: 0.4290\n",
            "Epoch 4/10\n",
            "\u001b[1m250/250\u001b[0m \u001b[32m━━━━━━━━━━━━━━━━━━━━\u001b[0m\u001b[37m\u001b[0m \u001b[1m6s\u001b[0m 14ms/step - accuracy: 0.7623 - loss: 0.5204 - val_accuracy: 0.8462 - val_loss: 0.3609\n",
            "Epoch 5/10\n",
            "\u001b[1m250/250\u001b[0m \u001b[32m━━━━━━━━━━━━━━━━━━━━\u001b[0m\u001b[37m\u001b[0m \u001b[1m4s\u001b[0m 10ms/step - accuracy: 0.7629 - loss: 0.5039 - val_accuracy: 0.9231 - val_loss: 0.3066\n",
            "Epoch 6/10\n",
            "\u001b[1m250/250\u001b[0m \u001b[32m━━━━━━━━━━━━━━━━━━━━\u001b[0m\u001b[37m\u001b[0m \u001b[1m3s\u001b[0m 9ms/step - accuracy: 0.8284 - loss: 0.4381 - val_accuracy: 0.9615 - val_loss: 0.2639\n",
            "Epoch 7/10\n",
            "\u001b[1m250/250\u001b[0m \u001b[32m━━━━━━━━━━━━━━━━━━━━\u001b[0m\u001b[37m\u001b[0m \u001b[1m3s\u001b[0m 9ms/step - accuracy: 0.8421 - loss: 0.3751 - val_accuracy: 0.9615 - val_loss: 0.2285\n",
            "Epoch 8/10\n",
            "\u001b[1m250/250\u001b[0m \u001b[32m━━━━━━━━━━━━━━━━━━━━\u001b[0m\u001b[37m\u001b[0m \u001b[1m5s\u001b[0m 10ms/step - accuracy: 0.8843 - loss: 0.3415 - val_accuracy: 0.9615 - val_loss: 0.1991\n",
            "Epoch 9/10\n",
            "\u001b[1m250/250\u001b[0m \u001b[32m━━━━━━━━━━━━━━━━━━━━\u001b[0m\u001b[37m\u001b[0m \u001b[1m3s\u001b[0m 10ms/step - accuracy: 0.8891 - loss: 0.3194 - val_accuracy: 0.9615 - val_loss: 0.1763\n",
            "Epoch 10/10\n",
            "\u001b[1m250/250\u001b[0m \u001b[32m━━━━━━━━━━━━━━━━━━━━\u001b[0m\u001b[37m\u001b[0m \u001b[1m3s\u001b[0m 9ms/step - accuracy: 0.8474 - loss: 0.3422 - val_accuracy: 0.9615 - val_loss: 0.1572\n"
          ]
        }
      ]
    },
    {
      "cell_type": "markdown",
      "source": [
        "# Predição"
      ],
      "metadata": {
        "id": "Y2qBZXL_8Oq1"
      },
      "id": "Y2qBZXL_8Oq1"
    },
    {
      "cell_type": "code",
      "source": [
        "# Get list of all test images\n",
        "cats_test_dir = 'cats-and-dogs/testing/cats/'\n",
        "dogs_test_dir = 'cats-and-dogs/testing/dogs/'\n",
        "cats_test_images = [os.path.join(cats_test_dir, f) for f in os.listdir(cats_test_dir) if os.path.isfile(os.path.join(cats_test_dir, f))]\n",
        "dogs_test_images = [os.path.join(dogs_test_dir, f) for f in os.listdir(dogs_test_dir) if os.path.isfile(os.path.join(dogs_test_dir, f))]\n",
        "\n",
        "all_test_images = cats_test_images + dogs_test_images\n",
        "\n",
        "# Select a random image\n",
        "random_image_path = random.choice(all_test_images)\n",
        "print(f\"Loading random image: {random_image_path}\")\n",
        "\n",
        "test_image = image.load_img(random_image_path, target_size = (224, 224))\n",
        "\n",
        "test_image = image.img_to_array(test_image)\n",
        "test_image = np.expand_dims(test_image, axis = 0)\n",
        "test_image = test_image/255\n",
        "\n",
        "from IPython import display\n",
        "display.display(display.Image(random_image_path))\n",
        "\n",
        "result = model.predict(test_image)\n",
        "\n",
        "if result[0][0] > 0.5: prediction = 'dog'\n",
        "else: prediction = 'cat'\n",
        "\n",
        "print(prediction)"
      ],
      "metadata": {
        "id": "N_jiGfwi8QnV",
        "colab": {
          "base_uri": "https://localhost:8080/",
          "height": 444
        },
        "outputId": "9a3d57d6-18fd-4abe-d6a5-0fadd5d08de9"
      },
      "id": "N_jiGfwi8QnV",
      "execution_count": 65,
      "outputs": [
        {
          "output_type": "stream",
          "name": "stdout",
          "text": [
            "Loading random image: cats-and-dogs/testing/dogs/11559.jpg\n"
          ]
        },
        {
          "output_type": "display_data",
          "data": {
            "image/jpeg": "[encoded data removed]",
            "text/plain": [
              "<IPython.core.display.Image object>"
            ]
          },
          "metadata": {}
        },
        {
          "output_type": "stream",
          "name": "stdout",
          "text": [
            "\u001b[1m1/1\u001b[0m \u001b[32m━━━━━━━━━━━━━━━━━━━━\u001b[0m\u001b[37m\u001b[0m \u001b[1m0s\u001b[0m 32ms/step\n",
            "dog\n"
          ]
        }
      ]
    }
  ],
  "metadata": {
    "language_info": {
      "name": "python"
    },
    "colab": {
      "provenance": [],
      "gpuType": "T4",
      "include_colab_link": true
    },
    "kernelspec": {
      "name": "python3",
      "display_name": "Python 3"
    },
    "accelerator": "GPU"
  },
  "nbformat": 4,
  "nbformat_minor": 5
}