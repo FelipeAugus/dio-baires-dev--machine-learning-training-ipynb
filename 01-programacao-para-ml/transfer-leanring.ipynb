{
  "cells": [
    {
      "cell_type": "markdown",
      "metadata": {
        "id": "view-in-github",
        "colab_type": "text"
      },
      "source": [
        "<a href=\"https://colab.research.google.com/github/FelipeAugus/dio-baires-dev--machine-learning-training-ipynb/blob/main/01-programacao-para-ml/transfer-leanring.ipynb\" target=\"_parent\"><img src=\"https://colab.research.google.com/assets/colab-badge.svg\" alt=\"Open In Colab\"/></a>"
      ]
    },
    {
      "cell_type": "code",
      "execution_count": 9,
      "id": "e7861951",
      "metadata": {
        "vscode": {
          "languageId": "plaintext"
        },
        "id": "e7861951"
      },
      "outputs": [],
      "source": [
        "import os\n",
        "import zipfile\n",
        "import random\n",
        "import keras\n",
        "import pandas as pd\n",
        "import numpy as np\n",
        "import matplotlib.pyplot as plt\n",
        "from keras.applications import MobileNet\n",
        "from keras.applications.mobilenet import preprocess_input\n",
        "from keras.layers import Dense, Dropout, GlobalAveragePooling2D\n",
        "from keras.models import Model\n",
        "from keras.optimizers import Adam\n",
        "from keras.preprocessing import image\n",
        "from tensorflow.keras.preprocessing.image import ImageDataGenerator\n",
        "from shutil import copyfile"
      ]
    },
    {
      "cell_type": "markdown",
      "source": [
        "# Preparo das Imagens"
      ],
      "metadata": {
        "id": "WHniHmWi8l2f"
      },
      "id": "WHniHmWi8l2f"
    },
    {
      "cell_type": "code",
      "source": [
        "!wget --no-check-certificate https://download.microsoft.com/download/3/e/1/3e1c3f21-ecdb-4869-8368-6deba77b919f/kagglecatsanddogs_5340.zip -O /tmp/cats-and-dogs.zip\n",
        "with zipfile.ZipFile('/tmp/cats-and-dogs.zip', 'r') as zip: zip.extractall('/tmp')"
      ],
      "metadata": {
        "colab": {
          "base_uri": "https://localhost:8080/"
        },
        "id": "Q_BfuA0b23Qp",
        "outputId": "8a12477a-064a-4a90-d6cd-e003ddabc4c8"
      },
      "id": "Q_BfuA0b23Qp",
      "execution_count": 10,
      "outputs": [
        {
          "output_type": "stream",
          "name": "stdout",
          "text": [
            "--2025-07-17 01:45:32--  https://download.microsoft.com/download/3/e/1/3e1c3f21-ecdb-4869-8368-6deba77b919f/kagglecatsanddogs_5340.zip\n",
            "Resolving download.microsoft.com (download.microsoft.com)... 23.222.110.64, 2600:1413:a000:1383::317f, 2600:1413:a000:138c::317f\n",
            "Connecting to download.microsoft.com (download.microsoft.com)|23.222.110.64|:443... connected.\n",
            "HTTP request sent, awaiting response... 200 OK\n",
            "Length: 824887076 (787M) [application/octet-stream]\n",
            "Saving to: ‘/tmp/cats-and-dogs.zip’\n",
            "\n",
            "/tmp/cats-and-dogs. 100%[===================>] 786.67M   262MB/s    in 3.0s    \n",
            "\n",
            "2025-07-17 01:45:35 (262 MB/s) - ‘/tmp/cats-and-dogs.zip’ saved [824887076/824887076]\n",
            "\n"
          ]
        }
      ]
    },
    {
      "cell_type": "code",
      "source": [
        "try:\n",
        "    import shutil\n",
        "    shutil.rmtree('/tmp/cats-v-dogs')\n",
        "\n",
        "    os.mkdir('/tmp/cats-v-dogs')\n",
        "    os.mkdir('/tmp/cats-v-dogs/training')\n",
        "    os.mkdir('/tmp/cats-v-dogs/testing')\n",
        "    os.mkdir('/tmp/cats-v-dogs/training/cats')\n",
        "    os.mkdir('/tmp/cats-v-dogs/training/dogs')\n",
        "    os.mkdir('/tmp/cats-v-dogs/testing/cats')\n",
        "    os.mkdir('/tmp/cats-v-dogs/testing/dogs')\n",
        "except OSError:\n",
        "    pass\n",
        "\n",
        "import shutil\n",
        "\n",
        "def split_data(SOURCE, TRAINING, TESTING, SPLIT_SIZE, MAX_SIZE, CLASS_DIR):\n",
        "    files = []\n",
        "    current_size = 0\n",
        "    for filename in os.listdir(SOURCE):\n",
        "        file = SOURCE + filename\n",
        "        if os.path.getsize(file) > 0 and current_size<=MAX_SIZE:\n",
        "            files.append(filename)\n",
        "            current_size+=1\n",
        "    print(f'Arquivos separados: {len(files)}')\n",
        "\n",
        "    training_length = int(len(files) * SPLIT_SIZE)\n",
        "    testing_length = int(len(files) - training_length)\n",
        "    shuffled_set = random.sample(files, len(files))\n",
        "    training_set = shuffled_set[0:training_length]\n",
        "    testing_set = shuffled_set[-testing_length:]\n",
        "\n",
        "    for filename in training_set:\n",
        "        this_file = SOURCE + filename\n",
        "        destination = TRAINING + CLASS_DIR + filename\n",
        "        copyfile(this_file, destination)\n",
        "\n",
        "    for filename in testing_set:\n",
        "        this_file = SOURCE + filename\n",
        "        destination = TESTING + CLASS_DIR + filename\n",
        "        copyfile(this_file, destination)\n",
        "\n",
        "\n",
        "CAT_SOURCE_DIR = \"/tmp/PetImages/Cat/\"\n",
        "DOG_SOURCE_DIR = \"/tmp/PetImages/Dog/\"\n",
        "TRAINING_DIR = \"/tmp/cats-v-dogs/training/\"\n",
        "TESTING_DIR = \"/tmp/cats-v-dogs/testing/\"\n",
        "\n",
        "max_size = 120\n",
        "split_size = .9\n",
        "split_data(CAT_SOURCE_DIR, TRAINING_DIR, TESTING_DIR, split_size, max_size, \"cats/\")\n",
        "split_data(DOG_SOURCE_DIR, TRAINING_DIR, TESTING_DIR, split_size, max_size, \"dogs/\")\n",
        "\n",
        "print(len(os.listdir('/tmp/cats-v-dogs/training/cats/')))\n",
        "print(len(os.listdir('/tmp/cats-v-dogs/training/dogs/')))\n",
        "print(len(os.listdir('/tmp/cats-v-dogs/testing/cats/')))\n",
        "print(len(os.listdir('/tmp/cats-v-dogs/testing/dogs/')))"
      ],
      "metadata": {
        "colab": {
          "base_uri": "https://localhost:8080/"
        },
        "id": "wbBlRoQP8kgH",
        "outputId": "07c49c57-6008-4ea2-9c7f-267b29049b5c"
      },
      "id": "wbBlRoQP8kgH",
      "execution_count": 23,
      "outputs": [
        {
          "output_type": "stream",
          "name": "stdout",
          "text": [
            "Arquivos separados: 121\n",
            "Arquivos separados: 121\n",
            "108\n",
            "108\n",
            "13\n",
            "13\n"
          ]
        }
      ]
    },
    {
      "cell_type": "code",
      "source": [
        "batch_size = 32\n",
        "\n",
        "train_datagen = ImageDataGenerator(rescale = 1./255,\n",
        "                                   shear_range = 0.4,\n",
        "                                   zoom_range = 0.4,\n",
        "                                   height_shift_range=0.3,\n",
        "                                   width_shift_range=0.3,\n",
        "                                   rotation_range=50,\n",
        "                                   horizontal_flip = True)\n",
        "\n",
        "test_datagen = ImageDataGenerator(rescale = 1./255)\n",
        "\n",
        "training_set = train_datagen.flow_from_directory('/tmp/cats-v-dogs/training',\n",
        "                                                 target_size = (224, 224),\n",
        "                                                 batch_size = batch_size,\n",
        "                                                 class_mode = 'binary')\n",
        "\n",
        "test_set = test_datagen.flow_from_directory('/tmp/cats-v-dogs/testing',\n",
        "                                            target_size = (224, 224),\n",
        "                                            batch_size = batch_size,\n",
        "                                            class_mode = 'binary')"
      ],
      "metadata": {
        "colab": {
          "base_uri": "https://localhost:8080/"
        },
        "id": "FCjsRUa97waS",
        "outputId": "e298d0d4-bd8d-4f09-892b-74cd93d0a0fc"
      },
      "id": "FCjsRUa97waS",
      "execution_count": 24,
      "outputs": [
        {
          "output_type": "stream",
          "name": "stdout",
          "text": [
            "Found 216 images belonging to 2 classes.\n",
            "Found 26 images belonging to 2 classes.\n"
          ]
        }
      ]
    },
    {
      "cell_type": "markdown",
      "source": [
        "# Instanciando a rede"
      ],
      "metadata": {
        "id": "Tx4JasHH7rz6"
      },
      "id": "Tx4JasHH7rz6"
    },
    {
      "cell_type": "code",
      "source": [
        "model=MobileNet(weights='imagenet', include_top=False)\n",
        "# Criando a saída do modelo MobileNet:\n",
        "x=model.output\n",
        "x=GlobalAveragePooling2D()(x)\n",
        "\n",
        "# Adicionando uma camada intermediária e a camada final:\n",
        "x=Dense(50,activation='relu')(x)\n",
        "preds=Dense(1,activation='sigmoid')(x)\n",
        "model=Model(inputs=model.input, outputs=preds)\n",
        "\n",
        "# Visualizando as camadas da nova rede criada usando o modelo MobileNetV2:\n",
        "# for i,layer in enumerate(model.layers): print(i,layer.name)\n",
        "\n",
        "# Definindo qual camada da rede será treinada. Nesse caso somente as duas últimas camadas adicionadas:\n",
        "for layer in model.layers[:86]: layer.trainable=False\n",
        "for layer in model.layers[86:]: layer.trainable=True"
      ],
      "metadata": {
        "id": "YVMJHeaC6kgs",
        "outputId": "1024e515-82e7-4885-e041-c5b418a37d72",
        "colab": {
          "base_uri": "https://localhost:8080/"
        }
      },
      "id": "YVMJHeaC6kgs",
      "execution_count": 25,
      "outputs": [
        {
          "output_type": "stream",
          "name": "stderr",
          "text": [
            "/tmp/ipython-input-25-1928709807.py:1: UserWarning: `input_shape` is undefined or non-square, or `rows` is not in [128, 160, 192, 224]. Weights for input shape (224, 224) will be loaded as the default.\n",
            "  model=MobileNet(weights='imagenet', include_top=False)\n"
          ]
        }
      ]
    },
    {
      "cell_type": "markdown",
      "source": [
        "# Treinamento"
      ],
      "metadata": {
        "id": "n3jeq8lk7-_T"
      },
      "id": "n3jeq8lk7-_T"
    },
    {
      "cell_type": "code",
      "source": [
        "model.compile(optimizer=Adam(learning_rate=0.0001),loss='binary_crossentropy',metrics=['accuracy'])\n",
        "\n",
        "history = model.fit(training_set,\n",
        "                   steps_per_epoch=int(8000/batch_size),\n",
        "                   epochs=10,\n",
        "                   validation_data = test_set,\n",
        "                   validation_steps = int(2000/batch_size))"
      ],
      "metadata": {
        "id": "teGPb2ql8AV7",
        "outputId": "b936a627-4ecd-485d-ca96-c1944ef1d12b",
        "colab": {
          "base_uri": "https://localhost:8080/"
        }
      },
      "id": "teGPb2ql8AV7",
      "execution_count": null,
      "outputs": [
        {
          "output_type": "stream",
          "name": "stderr",
          "text": [
            "/usr/local/lib/python3.11/dist-packages/keras/src/trainers/data_adapters/py_dataset_adapter.py:121: UserWarning: Your `PyDataset` class should call `super().__init__(**kwargs)` in its constructor. `**kwargs` can include `workers`, `use_multiprocessing`, `max_queue_size`. Do not pass these arguments to `fit()`, as they will be ignored.\n",
            "  self._warn_if_super_not_called()\n"
          ]
        },
        {
          "output_type": "stream",
          "name": "stdout",
          "text": [
            "Epoch 1/10\n",
            "\u001b[1m  7/250\u001b[0m \u001b[37m━━━━━━━━━━━━━━━━━━━━\u001b[0m \u001b[1m3:37\u001b[0m 897ms/step - accuracy: 0.5090 - loss: 0.8060"
          ]
        },
        {
          "output_type": "stream",
          "name": "stderr",
          "text": [
            "/usr/local/lib/python3.11/dist-packages/keras/src/trainers/epoch_iterator.py:107: UserWarning: Your input ran out of data; interrupting training. Make sure that your dataset or generator can generate at least `steps_per_epoch * epochs` batches. You may need to use the `.repeat()` function when building your dataset.\n",
            "  self._interrupted_warning()\n"
          ]
        },
        {
          "output_type": "stream",
          "name": "stdout",
          "text": [
            "\b\b\b\b\b\b\b\b\b\b\b\b\b\b\b\b\b\b\b\b\b\b\b\b\b\b\b\b\b\b\b\b\b\b\b\b\b\b\b\b\b\b\b\b\b\b\b\b\b\b\b\b\b\b\b\b\b\b\b\b\b\b\b\b\b\b\b\b\b\b\b\b\b\b\b\b\b\b\r\u001b[1m250/250\u001b[0m \u001b[32m━━━━━━━━━━━━━━━━━━━━\u001b[0m\u001b[37m\u001b[0m \u001b[1m15s\u001b[0m 39ms/step - accuracy: 0.5498 - loss: 0.7245 - val_accuracy: 0.7308 - val_loss: 0.5482\n",
            "Epoch 2/10\n",
            "\u001b[1m250/250\u001b[0m \u001b[32m━━━━━━━━━━━━━━━━━━━━\u001b[0m\u001b[37m\u001b[0m \u001b[1m12s\u001b[0m 10ms/step - accuracy: 0.6655 - loss: 0.5926 - val_accuracy: 0.8077 - val_loss: 0.4704\n",
            "Epoch 3/10\n"
          ]
        }
      ]
    },
    {
      "cell_type": "code",
      "source": [
        "model.save('transferlearning_catsanddogs.h5')\n",
        "from google.colab import files\n",
        "files.download('transferlearning_catsanddogs.h5')"
      ],
      "metadata": {
        "id": "Crzc6Jl68F_c"
      },
      "id": "Crzc6Jl68F_c",
      "execution_count": null,
      "outputs": []
    },
    {
      "cell_type": "markdown",
      "source": [
        "# Predição"
      ],
      "metadata": {
        "id": "Y2qBZXL_8Oq1"
      },
      "id": "Y2qBZXL_8Oq1"
    },
    {
      "cell_type": "code",
      "source": [
        "test_image = image.load_img('catsxdogs/single_prediction/chino1.jpg', target_size = (224, 224))\n",
        "\n",
        "test_image = image.img_to_array(test_image)\n",
        "test_image = np.expand_dims(test_image, axis = 0)\n",
        "test_image = test_image/255"
      ],
      "metadata": {
        "id": "N_jiGfwi8QnV"
      },
      "id": "N_jiGfwi8QnV",
      "execution_count": null,
      "outputs": []
    },
    {
      "cell_type": "code",
      "source": [
        "result = model.predict(test_image)\n",
        "\n",
        "if result[0][0] > 0.5: prediction = 'dog'\n",
        "else: prediction = 'cat'\n",
        "\n",
        "print(prediction)"
      ],
      "metadata": {
        "id": "KSQ379Mm8SJt"
      },
      "id": "KSQ379Mm8SJt",
      "execution_count": null,
      "outputs": []
    }
  ],
  "metadata": {
    "language_info": {
      "name": "python"
    },
    "colab": {
      "provenance": [],
      "gpuType": "T4",
      "include_colab_link": true
    },
    "kernelspec": {
      "name": "python3",
      "display_name": "Python 3"
    },
    "accelerator": "GPU"
  },
  "nbformat": 4,
  "nbformat_minor": 5
}