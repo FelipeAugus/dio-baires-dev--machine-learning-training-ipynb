{
  "nbformat": 4,
  "nbformat_minor": 0,
  "metadata": {
    "colab": {
      "provenance": [],
      "authorship_tag": "ABX9TyNaJzVfQrCLcm0RFIPmZir0"
    },
    "kernelspec": {
      "name": "python3",
      "display_name": "Python 3"
    },
    "language_info": {
      "name": "python"
    }
  },
  "cells": [
    {
      "cell_type": "markdown",
      "source": [
        "**OBSERVAÇÃO:** Esse notebook não executa no colab, pois precsa de acesso ao microfone e a saida de áudio do computador. É possivel adaptar o script adicionando funções que executando JS para obter e reproduzir audio."
      ],
      "metadata": {
        "id": "C96OpKdLXpIj"
      }
    },
    {
      "cell_type": "code",
      "execution_count": null,
      "metadata": {
        "id": "kIN2jAybMeKi"
      },
      "outputs": [],
      "source": [
        "!pip install -q pyttsx3 SpeechRecognition pygame pipwin pyjokes wikipedia\n",
        "!pipwin install pyaudio\n",
        "\n",
        "import os\n",
        "import pyttsx3\n",
        "import pyjokes\n",
        "import speech_recognition as sr\n",
        "import webbrowser\n",
        "import wikipedia\n",
        "\n",
        "from pygame import mixer\n",
        "from datetime import datetime"
      ]
    },
    {
      "cell_type": "code",
      "source": [
        "# \"LÊ\" o texto que voce passou\n",
        "engine = pyttsx3.init()\n",
        "def fala(text):\n",
        "    engine.say(text)\n",
        "    engine.runAndWait()\n",
        "\n",
        "# Obtem a solicitação do usuario e converte para texto\n",
        "def escuta():\n",
        "    r = sr.Recognizer()\n",
        "    with sr.Microphone() as source:\n",
        "        r.pause_threshold = 1\n",
        "        r.adjust_for_ambient_noise(source, duration=1)\n",
        "        try:\n",
        "            audio = r.listen(source)\n",
        "            said = r.recognize_google(audio)\n",
        "            print(said)\n",
        "            return said.lower()\n",
        "        except sr.UnknownValueError: fala(\"Desculpe, não entendi.\")\n",
        "        except sr.RequestError: fala(\"Desculpe, o serviço de voz não está disponível.\")\n",
        "    return \"\"\n",
        "\n",
        "\n",
        "# ----- FUNCIONALIDADES DO ASSISTENTE -----\n",
        "def playmusic(song):\n",
        "    mixer.init()\n",
        "    mixer.music.load(song)\n",
        "    mixer.music.play()\n",
        "\n",
        "def stopmusic(): mixer.music.stop()"
      ],
      "metadata": {
        "id": "lrZKuIA-QJrv"
      },
      "execution_count": null,
      "outputs": []
    },
    {
      "cell_type": "code",
      "source": [
        "def respond(text):\n",
        "    print(\"Text from get audio \" + text)\n",
        "    if 'youtube' in text:\n",
        "        fala(\"What do you want to search for?\")\n",
        "        keyword = escuta()\n",
        "        if keyword!= '':\n",
        "            url = f\"https://www.youtube.com/results?search_query={keyword}\"\n",
        "            webbrowser.get().open(url)\n",
        "            fala(f\"Here is what I have found for {keyword} on youtube\")\n",
        "    elif 'search' in text:\n",
        "        fala(\"What do you want to search for?\")\n",
        "        query = escuta()\n",
        "        if query !='':\n",
        "            result = wikipedia.summary(query, sentences=3)\n",
        "            fala(\"According to wikipedia\")\n",
        "            print(result)\n",
        "            fala(result)\n",
        "    elif 'joke' in text:\n",
        "        fala(pyjokes.get_joke())\n",
        "    elif 'what time' in text:\n",
        "        strTime = datetime.today().strftime(\"%H:%M %p\")\n",
        "        print(strTime)\n",
        "        fala(strTime)\n",
        "    elif 'play music' in text or 'play song' in text:\n",
        "        fala(\"Now playing...\")\n",
        "        music_dir = \"Music\\\\\" #add your music directory here..\n",
        "        songs = os.listdir(music_dir)\n",
        "        #counter = 0\n",
        "        print(songs)\n",
        "        playmusic(music_dir + \"\\\\\" + songs[0])\n",
        "    elif 'stop music' in text:\n",
        "        fala(\"Stopping playback.\")\n",
        "        stopmusic()\n",
        "    elif 'exit' in text:\n",
        "        fala(\"Goodbye, till next time\")\n",
        "        exit()"
      ],
      "metadata": {
        "id": "7lyBY2dpRTpc"
      },
      "execution_count": null,
      "outputs": []
    },
    {
      "cell_type": "code",
      "source": [
        "while True:\n",
        "    print(\"I am listening...\")\n",
        "    text = escuta()\n",
        "    respond(text)"
      ],
      "metadata": {
        "id": "9IqmOkRYRdhV"
      },
      "execution_count": null,
      "outputs": []
    }
  ]
}