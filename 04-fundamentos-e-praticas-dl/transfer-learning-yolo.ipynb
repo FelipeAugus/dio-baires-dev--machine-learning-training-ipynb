{
  "nbformat": 4,
  "nbformat_minor": 0,
  "metadata": {
    "colab": {
      "provenance": [],
      "gpuType": "T4",
      "authorship_tag": "ABX9TyM762QXKybX1upqmiCk29jZ",
      "include_colab_link": true
    },
    "kernelspec": {
      "name": "python3",
      "display_name": "Python 3"
    },
    "language_info": {
      "name": "python"
    },
    "accelerator": "GPU"
  },
  "cells": [
    {
      "cell_type": "markdown",
      "metadata": {
        "id": "view-in-github",
        "colab_type": "text"
      },
      "source": [
        "<a href=\"https://colab.research.google.com/github/FelipeAugus/dio-baires-dev--machine-learning-training-ipynb/blob/main/04-fundamentos-e-praticas-dl/transfer-learning-yolo.ipynb\" target=\"_parent\"><img src=\"https://colab.research.google.com/assets/colab-badge.svg\" alt=\"Open In Colab\"/></a>"
      ]
    },
    {
      "cell_type": "code",
      "source": [
        "!pip install -q ultralytics"
      ],
      "metadata": {
        "colab": {
          "base_uri": "https://localhost:8080/"
        },
        "id": "lxh4uUedcr6c",
        "outputId": "8a521456-e64c-4b0b-d364-003e676fdf57"
      },
      "execution_count": null,
      "outputs": [
        {
          "output_type": "stream",
          "name": "stdout",
          "text": [
            "\u001b[2K   \u001b[90m━━━━━━━━━━━━━━━━━━━━━━━━━━━━━━━━━━━━━━━━\u001b[0m \u001b[32m1.0/1.0 MB\u001b[0m \u001b[31m43.1 MB/s\u001b[0m eta \u001b[36m0:00:00\u001b[0m\n",
            "\u001b[2K   \u001b[90m━━━━━━━━━━━━━━━━━━━━━━━━━━━━━━━━━━━━━━━━\u001b[0m \u001b[32m363.4/363.4 MB\u001b[0m \u001b[31m4.9 MB/s\u001b[0m eta \u001b[36m0:00:00\u001b[0m\n",
            "\u001b[2K   \u001b[90m━━━━━━━━━━━━━━━━━━━━━━━━━━━━━━━━━━━━━━━━\u001b[0m \u001b[32m13.8/13.8 MB\u001b[0m \u001b[31m106.4 MB/s\u001b[0m eta \u001b[36m0:00:00\u001b[0m\n",
            "\u001b[2K   \u001b[90m━━━━━━━━━━━━━━━━━━━━━━━━━━━━━━━━━━━━━━━━\u001b[0m \u001b[32m24.6/24.6 MB\u001b[0m \u001b[31m73.5 MB/s\u001b[0m eta \u001b[36m0:00:00\u001b[0m\n",
            "\u001b[2K   \u001b[90m━━━━━━━━━━━━━━━━━━━━━━━━━━━━━━━━━━━━━━━━\u001b[0m \u001b[32m883.7/883.7 kB\u001b[0m \u001b[31m50.8 MB/s\u001b[0m eta \u001b[36m0:00:00\u001b[0m\n",
            "\u001b[2K   \u001b[90m━━━━━━━━━━━━━━━━━━━━━━━━━━━━━━━━━━━━━━━\u001b[0m \u001b[32m664.8/664.8 MB\u001b[0m \u001b[31m875.4 kB/s\u001b[0m eta \u001b[36m0:00:00\u001b[0m\n",
            "\u001b[2K   \u001b[90m━━━━━━━━━━━━━━━━━━━━━━━━━━━━━━━━━━━━━━━━\u001b[0m \u001b[32m211.5/211.5 MB\u001b[0m \u001b[31m5.9 MB/s\u001b[0m eta \u001b[36m0:00:00\u001b[0m\n",
            "\u001b[2K   \u001b[90m━━━━━━━━━━━━━━━━━━━━━━━━━━━━━━━━━━━━━━━━\u001b[0m \u001b[32m56.3/56.3 MB\u001b[0m \u001b[31m11.1 MB/s\u001b[0m eta \u001b[36m0:00:00\u001b[0m\n",
            "\u001b[2K   \u001b[90m━━━━━━━━━━━━━━━━━━━━━━━━━━━━━━━━━━━━━━━━\u001b[0m \u001b[32m127.9/127.9 MB\u001b[0m \u001b[31m7.4 MB/s\u001b[0m eta \u001b[36m0:00:00\u001b[0m\n",
            "\u001b[2K   \u001b[90m━━━━━━━━━━━━━━━━━━━━━━━━━━━━━━━━━━━━━━━━\u001b[0m \u001b[32m207.5/207.5 MB\u001b[0m \u001b[31m6.6 MB/s\u001b[0m eta \u001b[36m0:00:00\u001b[0m\n",
            "\u001b[2K   \u001b[90m━━━━━━━━━━━━━━━━━━━━━━━━━━━━━━━━━━━━━━━━\u001b[0m \u001b[32m21.1/21.1 MB\u001b[0m \u001b[31m99.2 MB/s\u001b[0m eta \u001b[36m0:00:00\u001b[0m\n",
            "\u001b[?25h"
          ]
        }
      ]
    },
    {
      "cell_type": "code",
      "source": [
        "import io\n",
        "import os\n",
        "import sys\n",
        "import yaml\n",
        "import base64\n",
        "import random\n",
        "import shutil\n",
        "import argparse\n",
        "\n",
        "from pathlib import Path\n",
        "from ultralytics import YOLO\n",
        "from PIL import Image as PILImage\n",
        "from IPython.display import display, HTML\n",
        "\n",
        "# Limpa a pasta \"data\" caso exista em seguida realiza o download da base de dados de imagem\n",
        "!rm -p -rf data; mkdir -p data; curl -s -L \"https://universe.roboflow.com/ds/Jo32rExSU2?key=t55BybLlO6\" > data/roboflow.zip; unzip -q -o data/roboflow.zip -d data; rm data/roboflow.zip"
      ],
      "metadata": {
        "id": "cwNZjCgnfSgJ"
      },
      "execution_count": null,
      "outputs": []
    },
    {
      "cell_type": "code",
      "source": [
        "# Carrega o modelo YOLO pre treinado\n",
        "model = YOLO('yolo12s.pt')"
      ],
      "metadata": {
        "id": "ZmKstbLdjwkJ"
      },
      "execution_count": null,
      "outputs": []
    },
    {
      "cell_type": "code",
      "metadata": {
        "id": "26045b9f"
      },
      "source": [
        "# Treina o modelo com os novos dados\n",
        "results = model.train(data='data/data.yaml', epochs=50, imgsz=720)"
      ],
      "execution_count": null,
      "outputs": []
    },
    {
      "cell_type": "code",
      "source": [
        "# Valida o treinamento do modelo\n",
        "results = model.predict(source='data/valid/images/', save=True)\n",
        "image_list = []\n",
        "\n",
        "for result in results:\n",
        "  im_array = result.plot()\n",
        "  im = PILImage.fromarray(im_array[..., ::-1])\n",
        "\n",
        "  buffer = io.BytesIO()\n",
        "  im.save(buffer, format='PNG')\n",
        "  img_bytes = buffer.getvalue()\n",
        "\n",
        "  img_base64 = base64.b64encode(img_bytes).decode('utf-8')\n",
        "  image_list.append(f'<img src=\"data:image/png;base64,{img_base64}\" style=\"margin: 5px; height: 250px;\">')\n",
        "\n",
        "html_string = \"<div>\" + \"\".join(image_list) + \"</div>\"\n",
        "display(HTML(html_string))"
      ],
      "metadata": {
        "id": "3t3vFjDfcPyS"
      },
      "execution_count": null,
      "outputs": []
    }
  ]
}