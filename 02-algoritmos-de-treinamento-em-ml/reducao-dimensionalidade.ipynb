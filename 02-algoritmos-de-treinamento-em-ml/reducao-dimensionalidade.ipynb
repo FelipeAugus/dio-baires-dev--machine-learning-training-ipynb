{
  "cells": [
    {
      "cell_type": "markdown",
      "metadata": {
        "colab_type": "text",
        "id": "view-in-github"
      },
      "source": [
        "<a href=\"https://colab.research.google.com/github/FelipeAugus/dio-baires-dev--machine-learning-training-ipynb/blob/main/01-programacao-para-ml/transfer-leanring.ipynb\" target=\"_parent\"><img src=\"https://colab.research.google.com/assets/colab-badge.svg\" alt=\"Open In Colab\"/></a>"
      ]
    },
    {
      "cell_type": "code",
      "execution_count": null,
      "id": "e7861951",
      "metadata": {
        "id": "e7861951",
        "vscode": {
          "languageId": "plaintext"
        }
      },
      "outputs": [],
      "source": [
        "import matplotlib.pyplot as plt\n",
        "import numpy as np\n",
        "from PIL import Image"
      ]
    },
    {
      "cell_type": "markdown",
      "id": "3768b9ca",
      "metadata": {},
      "source": [
        "Formula para obter os 255 tons de cinza\n",
        "\n",
        "C=0.299×R+0.59×G+0.11×B"
      ]
    },
    {
      "cell_type": "code",
      "execution_count": null,
      "id": "03f2ffb9",
      "metadata": {
        "vscode": {
          "languageId": "plaintext"
        }
      },
      "outputs": [],
      "source": [
        "\n",
        "# Representação da imagem em uma matriz com as camadas R G B\n",
        "rgb_image = np.array(Image.open(\"dev_ape.webp\"))\n",
        "\n",
        "\n",
        "r, g, b = image[:,:,0], image[:,:,1], image[:,:,2]\n",
        "\n",
        "# Aplicação da formula para criar uma matriz unica com tons de cinza\n",
        "g = 0.2989 * r + 0.5870 * g + 0.1140 * b\n",
        "cinza_image = g.astype(np.uint8)\n",
        "\n",
        "# Divide o tom de cinza em 2. \n",
        "pb = np.where(image >= 128, 1, 0)\n",
        "pb_image = binary_image.astype(np.uint8)\n",
        "\n"
      ]
    },
    {
      "cell_type": "code",
      "execution_count": null,
      "id": "64005e9a",
      "metadata": {},
      "outputs": [],
      "source": [
        "# Visualiza as imagens\n",
        "plt.figure(figsize=(10, 5))\n",
        "\n",
        "plt.subplot(1, 3, 1)\n",
        "plt.imshow(rgb_image)\n",
        "plt.title(\"Imagem RGB\")\n",
        "plt.axis('off')\n",
        "\n",
        "plt.subplot(1, 3, 2)\n",
        "plt.imshow(cinza_image, cmap='gray')\n",
        "plt.title(\"Imagem 255 Tons de Cinza\")\n",
        "plt.axis('off')\n",
        "\n",
        "plt.subplot(1, 3, 3)\n",
        "plt.imshow(pb_image, cmap='gray')\n",
        "plt.title(\"Imagem Preto e Branco\")\n",
        "plt.axis('off')\n",
        "\n",
        "plt.show()"
      ]
    }
  ],
  "metadata": {
    "accelerator": "GPU",
    "colab": {
      "gpuType": "T4",
      "include_colab_link": true,
      "provenance": []
    },
    "kernelspec": {
      "display_name": "Python 3",
      "name": "python3"
    },
    "language_info": {
      "name": "python"
    }
  },
  "nbformat": 4,
  "nbformat_minor": 5
}
